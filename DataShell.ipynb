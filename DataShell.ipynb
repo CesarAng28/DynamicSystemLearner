{
 "cells": [
  {
   "cell_type": "markdown",
   "metadata": {},
   "source": [
    "# COVID_19 DataBase\n",
    "\n",
    "## Origin: Mexico Government \n",
    "\n",
    "### Columns:\n",
    "\n",
    "__SEXO__: 1 - Mujer, 2 - Hombre, 99 - N/A\n",
    "\n",
    "__ENTIDAD_RES__: data description DataFrame\n",
    "\n",
    "__FECHA_SINTOMAS__: DATE\n",
    "\n",
    "__FECHA_DEF__: DATE\n",
    "\n",
    "__EDAD__: Numerical\n",
    "\n",
    "__DIABETES__: 1 - SI, 2 - NO, ELSE: N/A\n",
    "\n",
    "__HIPERTENSION__ 1 - SI, 2 - NO, ELSE: N/A\n",
    "\n",
    "__CARDIOVSCULAR__ 1 - SI, 2 - NO, ELSE: N/A\n",
    "\n",
    "__OBESIDAD__ 1 - SI, 2 - NO, ELSE: N/A\n",
    "\n",
    "__TABAQUISMO__ 1 - SI, 2 - NO, ELSE: N/A\n",
    "\n",
    "__RESULTADO__ 1 - POSITIVO COVID, 2 - NO POSITIVO COVID, ELSE: PENDIENTE"
   ]
  },
  {
   "cell_type": "code",
   "execution_count": null,
   "metadata": {},
   "outputs": [],
   "source": [
    "import numpy as np\n",
    "import matplotlib.pyplot as plt\n",
    "import pandas as pd\n",
    "from sklearn.model_selection import train_test_split\n",
    "plt.style.use('ggplot')\n"
   ]
  },
  {
   "cell_type": "code",
   "execution_count": null,
   "metadata": {},
   "outputs": [],
   "source": [
    "class DataShell:\n",
    "    \n",
    "    \n",
    "    def __init__(self, path = None, data_frame = None, cols = None):\n",
    "        \n",
    "        if path is None and data_frame is None:\n",
    "            self.data = pd.DataFrame()\n",
    "            \n",
    "        if path is not None:\n",
    "            if cols is None:\n",
    "                self.data = pd.read_csv(path)\n",
    "            else:\n",
    "                self.data = pd.read_csv(path, usecols = cols)\n",
    "        if data_frame is not None:\n",
    "            self.data = data_frame\n",
    "        \n",
    "        self.description = self.data.info()\n",
    "        self.main = self.data.copy()\n",
    "        \n",
    "        self.y = []\n",
    "        self.X = []\n",
    "        \n",
    "        self.X_train = [] \n",
    "        self.X_test =[]\n",
    "        self.y_train = []\n",
    "        self.y_test = []\n",
    "        \n",
    "        \n",
    "                    \n",
    "    def get_data(self):\n",
    "        return self.data\n",
    "    \n",
    "    def set_output(self, column_name = None):\n",
    "        \n",
    "        self.y = self.data[[column_name]]\n",
    "        self.X = self.data.drop(column_name)\n",
    "         \n",
    "        \n",
    "    \n",
    "    def generate_split(self, *arrays, **options):\n",
    "        self.X_train, self.X_test, self.y_train, self.y_test = train_test_split(\n",
    "        *arrays, **options)\n",
    "        \n",
    "    def set_main_df(self, dataframe):\n",
    "        self.data = dataframe.copy()\n",
    "\n",
    "    def subset_data(self, column = None, condition = None, equal = True):\n",
    "        \n",
    "        if equal is True:\n",
    "            return self.data[self.data[column] == condition]\n",
    "        else:\n",
    "            return self.data[self.data[column] != condition]\n",
    "    \n",
    "    \n",
    "        \n",
    "    \n",
    "\n",
    "\n",
    "\n",
    "    \n",
    "    \n",
    "            \n",
    "        \n",
    "        "
   ]
  },
  {
   "cell_type": "code",
   "execution_count": null,
   "metadata": {},
   "outputs": [],
   "source": [
    "class Covid19DataShell(DataShell):\n",
    "    \n",
    "    def __init__(self, path = None, data_frame = None, cols = None):\n",
    "        super().__init__(path = path, data_frame = data_frame, cols = cols)\n",
    "        self.positive = None\n",
    "        self.negative = None \n",
    "        self.deceased = None\n",
    "        \n",
    "        \n",
    "    \n",
    "    \n",
    "\n",
    "    \n",
    "    def positive_cases(self, column = None, condition = None, inplace = True):\n",
    "          \n",
    "        if column is None:\n",
    "            self.positive = self.subset_data(column = 'RESULTADO', condition = 1)\n",
    "        else:\n",
    "            self.positive = self.subset_data(column = columns, condition = condition)\n",
    "            \n",
    "        if inplace is True:\n",
    "            self.data = self.positive\n",
    "            \n",
    "        return self.positive\n",
    "            \n",
    "            \n",
    "    def set_country_info(self, path = None):\n",
    "        \n",
    "        self.countries = pd.read_csv(path)\n",
    "        return self.countries\n",
    "    \n",
    "    \n",
    "    def join_main_dataset(self, data_set, l_column, r_column):\n",
    "        return pd.merge(self.data, data_set, how = 'left',\n",
    "                        left_on = l_column, right_on = r_column).drop(r_column,\n",
    "                                                                      axis = 1)\n",
    "## Change set as date to more generic \n",
    "    @staticmethod\n",
    "    def set_as_date(data_frame, in_col = None, out_col = None):\n",
    "        \n",
    "        if out_col is None:\n",
    "            out_col = in_col\n",
    "        \n",
    "                \n",
    "        temp = data_frame.assign(DATE = pd.to_datetime(data_frame[in_col]))\n",
    "        \n",
    "        if out_col == in_col:\n",
    "            temp.drop(in_col, axis = 1, inplace = True)\n",
    "            temp.rename(columns={'DATE': out_col}, inplace = True)   \n",
    "            \n",
    "        return temp\n",
    "        \n",
    "\n",
    "    def set_deceased_cases(self, column = 'FECHA_DEF', condition = '9999-99-99'):\n",
    "        self.deceased = self.subset_data(column = column, condition = condition, equal = False)\n",
    "        self.deceased = self.set_as_date(self.deceased, in_col = column)\n",
    "        print(type( self.deceased))\n",
    "        return self.deceased\n",
    "    \n",
    "    \n",
    "    def get_deceased_cases(self, column = 'FECHA_DEF', condition = '9999-99-99'):\n",
    "        if self.deceased is None:\n",
    "            self.set_deceased_cases()\n",
    "            \n",
    "        return self.deceased\n",
    "\n",
    "    def time_curve(self, indeces = ['FECHA_SINTOMAS', 'ESTADO_RES'],\n",
    "                    value = 'ACTIVE', columns = None, data = 'POSITIVE'):\n",
    "        \n",
    "        if columns is not None:\n",
    "            time_slice = time_slice[[columns]]\n",
    "        \n",
    "        if data == 'POSITIVE':\n",
    "            temp = self.positive\n",
    "        if data == 'DECEASED':\n",
    "            temp = self.deceased\n",
    "        \n",
    "        time_slice = pd.DataFrame((temp.groupby(indeces).size()), columns=[value])\n",
    "        display(time_slice.head())\n",
    "        time_slice = time_slice.reset_index()\n",
    "        display(time_slice)\n",
    "        print(main_index)\n",
    "        time_slice = time_slice.pivot(index = indeces[0], columns = indeces[1,], values = [value]).cumsum()\n",
    "        time_slice.fillna(0)\n",
    "\n",
    "        return time_slice\n",
    "\n",
    "    def SIR_curves(self, gender = None, comorbidity = None):\n",
    "        \n",
    "        columns = None\n",
    "        if gender is not None:\n",
    "            columns = ['SEXO']\n",
    "        elif comorbidity is not None:\n",
    "            columns.append(comorbidity)\n",
    "        \n",
    "        self.active = self.time_curve(columns = columns, data = 'POSITIVE')\n",
    "        self.passed = self.time_curve(columns = columns, data = 'DECEASED')\n",
    "        \n",
    "        return self.active, self.passed\n",
    "\n",
    "        "
   ]
  },
  {
   "cell_type": "code",
   "execution_count": null,
   "metadata": {},
   "outputs": [],
   "source": [
    "cols = ['SEXO', 'ENTIDAD_RES', 'FECHA_SINTOMAS', 'FECHA_DEF', 'EDAD', \n",
    "        'DIABETES', 'HIPERTENSION', 'CARDIOVASCULAR', 'OBESIDAD', \n",
    "        'TABAQUISMO', 'RESULTADO']\n",
    "data = pd.read_csv('200811COVID19MEXICO.csv', usecols=cols)\n",
    "covid_data = Covid19DataShell('200811COVID19MEXICO.csv', cols = cols)\n",
    "covid_data.positive_cases()\n"
   ]
  },
  {
   "cell_type": "code",
   "execution_count": null,
   "metadata": {},
   "outputs": [],
   "source": [
    "countries_df = covid_data.set_country_info('entidades.csv')\n",
    "countries_df.head()"
   ]
  },
  {
   "cell_type": "code",
   "execution_count": null,
   "metadata": {},
   "outputs": [],
   "source": [
    "#pd.merge(covid_data.get_data(), countries_df, left_on = 'ENTIDAD_RES', right_on = 'CLAVE_ENTIDAD', how = 'inner')\n",
    "covid_data.join_main_dataset(countries_df, 'ENTIDAD_RES', 'CLAVE_ENTIDAD')"
   ]
  },
  {
   "cell_type": "code",
   "execution_count": null,
   "metadata": {},
   "outputs": [],
   "source": []
  },
  {
   "cell_type": "code",
   "execution_count": null,
   "metadata": {},
   "outputs": [],
   "source": [
    "date_df = covid_data.set_as_date(covid_data.get_data(), in_col='FECHA_SINTOMAS')\n",
    "date_df.info()\n",
    "deceased = covid_data.set_deceased_cases()\n",
    "\n",
    "test = covid_data.main\n",
    "test = covid_data.set_as_date(test, in_col='FECHA_SINTOMAS')\n",
    "test.info()"
   ]
  },
  {
   "cell_type": "code",
   "execution_count": null,
   "metadata": {},
   "outputs": [],
   "source": [
    "\n",
    "covid_data.get_data().info()"
   ]
  },
  {
   "cell_type": "code",
   "execution_count": null,
   "metadata": {},
   "outputs": [],
   "source": [
    "new = covid_data.get_data().assign(FECHA_SINTOMAS = pd.to_datetime(covid_data.get_data().FECHA_SINTOMAS))\n",
    "print(id(covid_data.get_data()))\n",
    "print(id(covid_data.subset_data))\n",
    "print(new is covid_data.get_data())\n",
    "\n",
    "display(covid_data.get_data().info())"
   ]
  },
  {
   "cell_type": "code",
   "execution_count": null,
   "metadata": {},
   "outputs": [],
   "source": [
    "covid_data.get_deceased_cases().info()"
   ]
  },
  {
   "cell_type": "code",
   "execution_count": null,
   "metadata": {},
   "outputs": [],
   "source": [
    "infected = pd.DataFrame((covid_data.get_deceased_cases().groupby(['FECHA_SINTOMAS','ENTIDAD_RES']).size()), columns=['DECEASED'])\n",
    "display(infected.head())\n",
    "infected = infected.reset_index()\n",
    "infected = infected.pivot(index = 'FECHA_SINTOMAS', columns = 'ENTIDAD_RES', values = 'DECEASED' ).cumsum()\n",
    "display(infected.head().cumsum())\n",
    "infected.fillna(0)\n",
    "\n",
    "infected.plot(figsize = (16,10))\n",
    "print('FECHA_SINTOMAS')"
   ]
  },
  {
   "cell_type": "code",
   "execution_count": null,
   "metadata": {},
   "outputs": [],
   "source": [
    "covid_data.SIR_curves()"
   ]
  },
  {
   "cell_type": "code",
   "execution_count": null,
   "metadata": {},
   "outputs": [],
   "source": [
    "covid_data.get_data_curves()\n"
   ]
  },
  {
   "cell_type": "code",
   "execution_count": null,
   "metadata": {},
   "outputs": [],
   "source": []
  },
  {
   "cell_type": "code",
   "execution_count": null,
   "metadata": {},
   "outputs": [],
   "source": []
  },
  {
   "cell_type": "code",
   "execution_count": null,
   "metadata": {},
   "outputs": [],
   "source": []
  },
  {
   "cell_type": "code",
   "execution_count": null,
   "metadata": {},
   "outputs": [],
   "source": []
  },
  {
   "cell_type": "code",
   "execution_count": null,
   "metadata": {},
   "outputs": [],
   "source": []
  },
  {
   "cell_type": "markdown",
   "metadata": {},
   "source": []
  }
 ],
 "metadata": {
  "kernelspec": {
   "display_name": "Python 3",
   "language": "python",
   "name": "python3"
  },
  "language_info": {
   "codemirror_mode": {
    "name": "ipython",
    "version": 3
   },
   "file_extension": ".py",
   "mimetype": "text/x-python",
   "name": "python",
   "nbconvert_exporter": "python",
   "pygments_lexer": "ipython3",
   "version": "3.8.3"
  }
 },
 "nbformat": 4,
 "nbformat_minor": 2
}
